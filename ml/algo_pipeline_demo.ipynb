{
 "cells": [
  {
   "cell_type": "code",
   "execution_count": 1,
   "metadata": {},
   "outputs": [],
   "source": [
    "import plotly.graph_objects as go\n",
    "import plotly.express as px\n",
    "from sklearn import preprocessing\n",
    "from sklearn.preprocessing import StandardScaler\n",
    "from sklearn.model_selection import train_test_split\n",
    "from sklearn.ensemble import RandomForestRegressor\n",
    "from sklearn.metrics import r2_score,mean_squared_error,mean_absolute_error\n",
    "\n",
    "from utils.utils import DataHandling, FeatureRecipe, FeatureExtractor"
   ]
  },
  {
   "cell_type": "code",
   "execution_count": 2,
   "metadata": {},
   "outputs": [
    {
     "name": "stdout",
     "output_type": "stream",
     "text": [
      "DataHandling intialization\n",
      "Intialization done !\n"
     ]
    }
   ],
   "source": [
    "data = DataHandling()"
   ]
  },
  {
   "cell_type": "code",
   "execution_count": 15,
   "metadata": {},
   "outputs": [
    {
     "name": "stdout",
     "output_type": "stream",
     "text": [
      "Loading data from local file...\n",
      "Dataset shape : 11914 lines, 16 columns\n",
      "Data loaded from local file !\n"
     ]
    }
   ],
   "source": [
    "data.get_data()"
   ]
  },
  {
   "cell_type": "code",
   "execution_count": 16,
   "metadata": {},
   "outputs": [
    {
     "name": "stdout",
     "output_type": "stream",
     "text": [
      "FeatureRecipe intialization...\n",
      "Initialization done !\n",
      "Dropping useless features and observations...\n",
      "Useless features and observations dropped !\n",
      "Dropping features with more than 30.0 % NaN...\n",
      "Dropped 0 features.\n",
      "Separating features by type...\n",
      "Dataset columns : 15 \n",
      "Number of discrete features : 0 \n",
      "Number of continuous features : 3 \n",
      "Number of categorical features : 12 \n",
      "Total number of features : 15\n",
      "(11914, 15)\n",
      "FeatureRecipe processing done !\n",
      "\n"
     ]
    }
   ],
   "source": [
    "ftr = FeatureRecipe(data.data)\n",
    "ftr.prepare_data(0.3)"
   ]
  },
  {
   "cell_type": "code",
   "execution_count": null,
   "metadata": {},
   "outputs": [],
   "source": []
  },
  {
   "cell_type": "code",
   "execution_count": null,
   "metadata": {},
   "outputs": [],
   "source": []
  }
 ],
 "metadata": {
  "kernelspec": {
   "display_name": "Python 3",
   "language": "python",
   "name": "python3"
  },
  "language_info": {
   "codemirror_mode": {
    "name": "ipython",
    "version": 3
   },
   "file_extension": ".py",
   "mimetype": "text/x-python",
   "name": "python",
   "nbconvert_exporter": "python",
   "pygments_lexer": "ipython3",
   "version": "3.8.5"
  }
 },
 "nbformat": 4,
 "nbformat_minor": 4
}
