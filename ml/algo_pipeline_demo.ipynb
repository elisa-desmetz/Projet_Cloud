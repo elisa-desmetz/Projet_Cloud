{
 "cells": [
  {
   "cell_type": "code",
   "execution_count": 13,
   "metadata": {},
   "outputs": [],
   "source": [
    "import matplotlib.pyplot as plt\n",
    "import seaborn as sns\n",
    "import plotly.graph_objects as go\n",
    "import plotly.express as px\n",
    "import math\n",
    "from sklearn import preprocessing\n",
    "from sklearn.preprocessing import OneHotEncoder\n",
    "from sklearn.preprocessing import StandardScaler\n",
    "from sklearn.model_selection import train_test_split\n",
    "from sklearn.ensemble import RandomForestRegressor\n",
    "from sklearn.metrics import r2_score,mean_squared_error,mean_absolute_error\n",
    "\n",
    "from utils.utils import DataHandling, FeatureRecipe, FeatureExtractor"
   ]
  },
  {
   "cell_type": "code",
   "execution_count": 2,
   "metadata": {},
   "outputs": [
    {
     "name": "stdout",
     "output_type": "stream",
     "text": [
      "DataHandling intialization\n",
      "Intialization done !\n"
     ]
    }
   ],
   "source": [
    "dh = DataHandling()"
   ]
  },
  {
   "cell_type": "code",
   "execution_count": 3,
   "metadata": {},
   "outputs": [
    {
     "name": "stdout",
     "output_type": "stream",
     "text": [
      "Loading data from local file...\n",
      "Dataset shape : 11914 lines, 16 columns\n",
      "Data loaded from local file !\n"
     ]
    }
   ],
   "source": [
    "dh.get_data()"
   ]
  },
  {
   "cell_type": "code",
   "execution_count": 4,
   "metadata": {},
   "outputs": [
    {
     "name": "stdout",
     "output_type": "stream",
     "text": [
      "FeatureRecipe intialization...\n",
      "Initialization done !\n",
      "Dropping useless features and observations...\n",
      "Useless features and observations dropped !\n",
      "\n",
      "Dropping features with more than 30.0 % NaN...\n",
      "Dropped 0 features.\n",
      "\n",
      "Separating features by type...\n",
      "Dataset columns : 15 \n",
      "Number of discrete features : 5 \n",
      "Number of continuous features : 3 \n",
      "Number of categorical features : 7 \n",
      "Total number of features : 15\n",
      "\n",
      "Processed dataset shape : 8206 lines, 16 columns\n",
      "FeatureRecipe processing done !\n",
      "\n"
     ]
    }
   ],
   "source": [
    "ftr = FeatureRecipe(dh.data)\n",
    "ftr.prepare_data(0.3)"
   ]
  },
  {
   "cell_type": "markdown",
   "metadata": {},
   "source": [
    "### Séparation du dataset\n",
    "Le dataset est divisé en 2, un dataset d'entrainement et un dataset de test. La majorité des observation sera utilisée pour l'entrainement, et la petite partie restante sera utilisée pour le test. "
   ]
  },
  {
   "cell_type": "code",
   "execution_count": 5,
   "metadata": {},
   "outputs": [
    {
     "name": "stdout",
     "output_type": "stream",
     "text": [
      "(8206, 6)\n",
      "(8206,)\n"
     ]
    }
   ],
   "source": [
    "df=ftr.data\n",
    "x = df[['Popularity','Year','HP','Cylinders','MPG-H','MPG-C']].values\n",
    "y = df['Price'].values\n",
    "\n",
    "print(x.shape)\n",
    "print(y.shape)"
   ]
  },
  {
   "cell_type": "code",
   "execution_count": 6,
   "metadata": {},
   "outputs": [],
   "source": [
    "sc_x=StandardScaler()\n",
    "sc_y=StandardScaler()\n",
    "\n",
    "x=sc_x.fit_transform(x)\n",
    "y=sc_y.fit_transform(y.reshape(-1,1))"
   ]
  },
  {
   "cell_type": "code",
   "execution_count": 7,
   "metadata": {},
   "outputs": [
    {
     "name": "stdout",
     "output_type": "stream",
     "text": [
      "(5744, 6)\n",
      "(5744, 1)\n",
      "(2462, 6)\n",
      "(2462, 1)\n"
     ]
    }
   ],
   "source": [
    "x_train,x_test,y_train,y_test = train_test_split(x,y,test_size = 0.3,random_state = 42)\n",
    "print(x_train.shape)\n",
    "print(y_train.shape)\n",
    "print(x_test.shape)\n",
    "print(y_test.shape)"
   ]
  },
  {
   "cell_type": "code",
   "execution_count": 35,
   "metadata": {},
   "outputs": [
    {
     "name": "stderr",
     "output_type": "stream",
     "text": [
      "<ipython-input-35-ab9f5539f83c>:2: DataConversionWarning: A column-vector y was passed when a 1d array was expected. Please change the shape of y to (n_samples,), for example using ravel().\n",
      "  rfc_model.fit(x_train,y_train)\n"
     ]
    },
    {
     "name": "stdout",
     "output_type": "stream",
     "text": [
      "Training Accuracy : 0.9693945659875487\n",
      "Testing Accuracy : 0.9351273076844421\n"
     ]
    }
   ],
   "source": [
    "rfc_model=RandomForestRegressor(n_estimators=50,random_state=42)\n",
    "rfc_model.fit(x_train,y_train)\n",
    "\n",
    "# calculating the accuracies\n",
    "print(\"Training Accuracy :\",rfc_model.score(x_train,y_train))\n",
    "print(\"Testing Accuracy :\",rfc_model.score(x_test,y_test))\n"
   ]
  },
  {
   "cell_type": "code",
   "execution_count": 19,
   "metadata": {},
   "outputs": [
    {
     "data": {
      "text/plain": [
       "array([-1.36012274, -1.55026872,  1.33524196, -0.28218401, -0.97066431])"
      ]
     },
     "execution_count": 19,
     "metadata": {},
     "output_type": "execute_result"
    }
   ],
   "source": [
    "y_pred = rfc_model.predict(x_test)\n",
    "y_pred[0:5]"
   ]
  },
  {
   "cell_type": "code",
   "execution_count": 10,
   "metadata": {},
   "outputs": [
    {
     "data": {
      "text/plain": [
       "Text(0, 0.5, 'Predicted Values')"
      ]
     },
     "execution_count": 10,
     "metadata": {},
     "output_type": "execute_result"
    },
    {
     "data": {
      "image/png": "[encoded data removed]",
      "text/plain": [
       "<Figure size 432x288 with 1 Axes>"
      ]
     },
     "metadata": {
      "needs_background": "light"
     },
     "output_type": "display_data"
    }
   ],
   "source": [
    "plt.scatter(y_test,y_pred)\n",
    "plt.xlabel(\"True Values\")\n",
    "plt.ylabel(\"Predicted Values\")"
   ]
  },
  {
   "cell_type": "code",
   "execution_count": null,
   "metadata": {},
   "outputs": [],
   "source": [
    "# TROP LONG A FAIRE TOURNER\n",
    "# sns.displot((y_test-y_pred))"
   ]
  },
  {
   "cell_type": "code",
   "execution_count": 15,
   "metadata": {},
   "outputs": [
    {
     "name": "stdout",
     "output_type": "stream",
     "text": [
      "R2_Score :  0.9350088770400108\n",
      "Mean Squared Error :  0.06607232405879213\n",
      "Mean Absolute Error :  0.18919018453993894\n",
      "Root Mean Square Error :  0.257045373540922\n"
     ]
    }
   ],
   "source": [
    "print(\"R2_Score : \", r2_score(y_test,y_pred))\n",
    "print(\"Mean Squared Error : \", mean_squared_error(y_test,y_pred))\n",
    "print(\"Mean Absolute Error : \",mean_absolute_error(y_test,y_pred))\n",
    "print(\"Root Mean Square Error : \",math.sqrt(mean_squared_error(y_test,y_pred)))"
   ]
  },
  {
   "cell_type": "code",
   "execution_count": null,
   "metadata": {},
   "outputs": [],
   "source": []
  }
 ],
 "metadata": {
  "kernelspec": {
   "display_name": "Python 3",
   "language": "python",
   "name": "python3"
  },
  "language_info": {
   "codemirror_mode": {
    "name": "ipython",
    "version": 3
   },
   "file_extension": ".py",
   "mimetype": "text/x-python",
   "name": "python",
   "nbconvert_exporter": "python",
   "pygments_lexer": "ipython3",
   "version": "3.8.5"
  }
 },
 "nbformat": 4,
 "nbformat_minor": 4
}
